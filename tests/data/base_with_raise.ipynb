{
 "cells": [
  {
   "cell_type": "code",
   "execution_count": null,
   "id": "ef16f222-71ee-4e87-9f10-915c6db07ae7",
   "metadata": {},
   "outputs": [],
   "source": [
    "import random\n",
    "\n",
    "SOME_CONSTANT = 1\n",
    "\n",
    "some_int = random.randint(0, 2 ** 10)\n",
    "\n",
    "def some_function():\n",
    "    global some_int\n",
    "    some_int = -1\n",
    "\n",
    "some_function()\n",
    "\n",
    "raise RuntimeError()"
   ]
  }
 ],
 "metadata": {
  "kernelspec": {
   "display_name": "Python 3 (ipykernel)",
   "language": "python",
   "name": "python3"
  },
  "language_info": {
   "codemirror_mode": {
    "name": "ipython",
    "version": 3
   },
   "file_extension": ".py",
   "mimetype": "text/x-python",
   "name": "python",
   "nbconvert_exporter": "python",
   "pygments_lexer": "ipython3",
   "version": "3.10.9"
  }
 },
 "nbformat": 4,
 "nbformat_minor": 5
}
