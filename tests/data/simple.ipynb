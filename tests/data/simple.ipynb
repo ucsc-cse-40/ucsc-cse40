{
 "cells": [
  {
   "cell_type": "code",
   "execution_count": null,
   "id": "a701de55-d1a8-43a0-b2ea-7a3c1e3e43fb",
   "metadata": {},
   "outputs": [],
   "source": [
    "SOME_CONSTANT = 1"
   ]
  }
 ],
 "metadata": {
  "kernelspec": {
   "display_name": "Python 3 (ipykernel)",
   "language": "python",
   "name": "python3"
  },
  "language_info": {
   "codemirror_mode": {
    "name": "ipython",
    "version": 3
   },
   "file_extension": ".py",
   "mimetype": "text/x-python",
   "name": "python",
   "nbconvert_exporter": "python",
   "pygments_lexer": "ipython3",
   "version": "3.10.9"
  }
 },
 "nbformat": 4,
 "nbformat_minor": 5
}
